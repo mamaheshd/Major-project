{
 "cells": [
  {
   "cell_type": "code",
   "execution_count": 1,
   "id": "3b662365-dc7b-4055-a875-8076d9c934c9",
   "metadata": {},
   "outputs": [],
   "source": [
    "import torch\n",
    "import torch.nn as nn\n",
    "import torch.optim as optim\n",
    "from torch.utils.data import DataLoader, random_split\n",
    "from torchvision import datasets, transforms\n",
    "from torchvision.transforms import RandomApply, RandomHorizontalFlip, RandomRotation\n",
    "import matplotlib.pyplot as plt\n",
    "import cv2\n",
    "import numpy as np\n",
    "from PIL import Image"
   ]
  },
  {
   "cell_type": "code",
   "execution_count": 2,
   "id": "4a2d71c1-d882-40dd-8513-44fd7ca7c84a",
   "metadata": {},
   "outputs": [],
   "source": [
    "# Set device\n",
    "device = torch.device(\"cuda\" if torch.cuda.is_available() else \"cpu\")"
   ]
  },
  {
   "cell_type": "code",
   "execution_count": 3,
   "id": "9c03a26a-bd87-4334-8001-9fea8b6805b0",
   "metadata": {},
   "outputs": [],
   "source": [
    "# Define the neural network\n",
    "class HandSignClassifier(nn.Module):\n",
    "    def __init__(self, num_classes):\n",
    "        super(HandSignClassifier, self).__init__()\n",
    "        self.features = nn.Sequential(\n",
    "            nn.Conv2d(3, 64, kernel_size=3, padding=1),\n",
    "            nn.ReLU(inplace=True),\n",
    "            nn.MaxPool2d(kernel_size=2, stride=2),\n",
    "            nn.Conv2d(64, 128, kernel_size=3, padding=1),\n",
    "            nn.ReLU(inplace=True),\n",
    "            nn.MaxPool2d(kernel_size=2, stride=2),\n",
    "            nn.Conv2d(128, 256, kernel_size=3, padding=1),\n",
    "            nn.ReLU(inplace=True),\n",
    "            nn.MaxPool2d(kernel_size=2, stride=2)\n",
    "        )\n",
    "        self.avgpool = nn.AdaptiveAvgPool2d((7, 7))\n",
    "        self.classifier = nn.Sequential(\n",
    "            nn.Linear(256 * 7 * 7, 512),\n",
    "            nn.ReLU(inplace=True),\n",
    "            nn.Dropout(),\n",
    "            nn.Linear(512, num_classes)\n",
    "        )\n",
    "\n",
    "    def forward(self, x):\n",
    "        x = self.features(x)\n",
    "        x = self.avgpool(x)\n",
    "        x = torch.flatten(x, 1)\n",
    "        x = self.classifier(x)\n",
    "        return x"
   ]
  },
  {
   "cell_type": "code",
   "execution_count": 4,
   "id": "d686cf7e-d33d-45f1-9767-1d1a29bb6465",
   "metadata": {},
   "outputs": [],
   "source": [
    "# Set hyperparameters\n",
    "batch_size = 48\n",
    "learning_rate = 0.001\n",
    "num_epochs = 10"
   ]
  },
  {
   "cell_type": "code",
   "execution_count": 5,
   "id": "66ed4a25-7db1-4fce-8a18-418b10dc80c4",
   "metadata": {},
   "outputs": [],
   "source": [
    "# Data preprocessing and augmentation\n",
    "transform = transforms.Compose([\n",
    "    transforms.Resize((128, 128)),\n",
    "    RandomApply([RandomRotation(30)]),\n",
    "    RandomApply([RandomHorizontalFlip()]),\n",
    "    transforms.ToTensor(),\n",
    "])"
   ]
  },
  {
   "cell_type": "code",
   "execution_count": 6,
   "id": "cb4b36ef-ec59-4d96-88e2-592a3a8d5e11",
   "metadata": {},
   "outputs": [],
   "source": [
    "# Load dataset and split into training, validation, and testing sets\n",
    "full_dataset = datasets.ImageFolder(root='../pre-images', transform=transform)\n",
    "\n",
    "# Define the sizes for training, validation, and testing sets\n",
    "train_size = int(0.8 * len(full_dataset))\n",
    "val_size = len(full_dataset) - train_size\n",
    "\n",
    "# Split the dataset\n",
    "train_dataset, val_dataset = random_split(full_dataset, [train_size, val_size])\n",
    "\n",
    "# Access classes from the underlying dataset\n",
    "num_classes = len(full_dataset.classes)\n",
    "\n",
    "# Create data loaders\n",
    "train_loader = DataLoader(train_dataset, batch_size=batch_size, shuffle=True)\n",
    "val_loader = DataLoader(val_dataset, batch_size=batch_size, shuffle=False)\n"
   ]
  },
  {
   "cell_type": "code",
   "execution_count": 7,
   "id": "2ec8daa7-f478-476b-92e3-558c1031d1ae",
   "metadata": {},
   "outputs": [],
   "source": [
    "# Initialize the model, loss function, and optimizer\n",
    "model = HandSignClassifier(num_classes=num_classes).to(device)\n",
    "criterion = nn.CrossEntropyLoss()\n",
    "optimizer = optim.Adam(model.parameters(), lr=learning_rate)"
   ]
  },
  {
   "cell_type": "code",
   "execution_count": 8,
   "id": "380cc751-3672-40a7-b802-878fa7ad554d",
   "metadata": {},
   "outputs": [],
   "source": [
    "# Lists to store losses and accuracies for plotting\n",
    "train_losses = []\n",
    "val_losses = []\n",
    "train_accuracies = []\n",
    "val_accuracies = []"
   ]
  },
  {
   "cell_type": "code",
   "execution_count": null,
   "id": "2501321d-be79-41e6-8780-656d383dfd25",
   "metadata": {},
   "outputs": [
    {
     "name": "stdout",
     "output_type": "stream",
     "text": [
      "Epoch [1/10], Train Loss: 3.5784, Validation Loss: 3.5718, Train Accuracy: 0.0321, Validation Accuracy: 0.0338\n",
      "Epoch [2/10], Train Loss: 3.4015, Validation Loss: 3.1061, Train Accuracy: 0.0798, Validation Accuracy: 0.2102\n",
      "Epoch [3/10], Train Loss: 2.7067, Validation Loss: 2.1112, Train Accuracy: 0.2464, Validation Accuracy: 0.4061\n",
      "Epoch [4/10], Train Loss: 2.0196, Validation Loss: 1.5403, Train Accuracy: 0.4086, Validation Accuracy: 0.5485\n",
      "Epoch [5/10], Train Loss: 1.6573, Validation Loss: 1.3013, Train Accuracy: 0.4993, Validation Accuracy: 0.6456\n",
      "Epoch [6/10], Train Loss: 1.3890, Validation Loss: 1.0110, Train Accuracy: 0.5844, Validation Accuracy: 0.7150\n",
      "Epoch [7/10], Train Loss: 1.2442, Validation Loss: 0.8695, Train Accuracy: 0.6217, Validation Accuracy: 0.7622\n",
      "Epoch [8/10], Train Loss: 1.0779, Validation Loss: 0.7855, Train Accuracy: 0.6658, Validation Accuracy: 0.7872\n"
     ]
    }
   ],
   "source": [
    "# Training loop\n",
    "for epoch in range(num_epochs):\n",
    "    model.train()\n",
    "    total_correct = 0\n",
    "    total_samples = 0\n",
    "    total_loss = 0\n",
    "\n",
    "    # Training\n",
    "    for inputs, labels in train_loader:\n",
    "        inputs, labels = inputs.to(device), labels.to(device)\n",
    "\n",
    "        optimizer.zero_grad()\n",
    "        outputs = model(inputs)\n",
    "        loss = criterion(outputs, labels)\n",
    "        loss.backward()\n",
    "        optimizer.step()\n",
    "\n",
    "        _, predicted = torch.max(outputs, 1)\n",
    "        total_samples += labels.size(0)\n",
    "        total_correct += (predicted == labels).sum().item()\n",
    "        total_loss += loss.item()\n",
    "\n",
    "    accuracy = total_correct / total_samples\n",
    "    avg_train_loss = total_loss / len(train_loader)\n",
    "    train_losses.append(avg_train_loss)\n",
    "    train_accuracies.append(accuracy)\n",
    "\n",
    "    # Validation\n",
    "    model.eval()\n",
    "    with torch.no_grad():\n",
    "        total_val_loss = 0\n",
    "        total_correct_val = 0\n",
    "        total_samples_val = 0\n",
    "        for inputs, labels in val_loader:\n",
    "            inputs, labels = inputs.to(device), labels.to(device)\n",
    "            outputs = model(inputs)\n",
    "            loss = criterion(outputs, labels)\n",
    "            total_val_loss += loss.item()\n",
    "\n",
    "            _, predicted_val = torch.max(outputs, 1)\n",
    "            total_samples_val += labels.size(0)\n",
    "            total_correct_val += (predicted_val == labels).sum().item()\n",
    "\n",
    "        avg_val_loss = total_val_loss / len(val_loader)\n",
    "        val_losses.append(avg_val_loss)\n",
    "\n",
    "        accuracy_val = total_correct_val / total_samples_val\n",
    "        val_accuracies.append(accuracy_val)\n",
    "\n",
    "    print(f'Epoch [{epoch+1}/{num_epochs}], Train Loss: {avg_train_loss:.4f}, Validation Loss: {avg_val_loss:.4f}, Train Accuracy: {accuracy:.4f}, Validation Accuracy: {accuracy_val:.4f}')"
   ]
  },
  {
   "cell_type": "code",
   "execution_count": null,
   "id": "d73dad80-badc-4b2a-bf2c-53c55613eb48",
   "metadata": {},
   "outputs": [],
   "source": []
  }
 ],
 "metadata": {
  "kernelspec": {
   "display_name": "environ",
   "language": "python",
   "name": "python3"
  },
  "language_info": {
   "codemirror_mode": {
    "name": "ipython",
    "version": 3
   },
   "file_extension": ".py",
   "mimetype": "text/x-python",
   "name": "python",
   "nbconvert_exporter": "python",
   "pygments_lexer": "ipython3",
   "version": "3.9.5 (tags/v3.9.5:0a7dcbd, May  3 2021, 17:27:52) [MSC v.1928 64 bit (AMD64)]"
  },
  "vscode": {
   "interpreter": {
    "hash": "19be7575dabf53a26d362ec99719eda16ce9c6fe54e3d21b503e0ba97328af0d"
   }
  }
 },
 "nbformat": 4,
 "nbformat_minor": 5
}
