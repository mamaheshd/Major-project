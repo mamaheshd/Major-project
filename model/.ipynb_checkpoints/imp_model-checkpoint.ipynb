{
 "cells": [
  {
   "cell_type": "code",
   "execution_count": 1,
   "id": "afa2ce30-a691-4399-a335-aaf824328499",
   "metadata": {},
   "outputs": [],
   "source": [
    "import torch\n",
    "from matplotlib import pyplot as plt\n",
    "import numpy as np\n",
    "import cv2\n",
    "import torch.nn as nn"
   ]
  },
  {
   "cell_type": "code",
   "execution_count": 2,
   "id": "afb798b7-efc5-42c5-a356-fe20c82470cd",
   "metadata": {},
   "outputs": [],
   "source": [
    "class HandSignClassifier(nn.Module):\n",
    "    def __init__(self, num_classes):\n",
    "        super(HandSignClassifier, self).__init__()\n",
    "        self.features = nn.Sequential(\n",
    "            nn.Conv2d(3, 64, kernel_size=3, padding=1),\n",
    "            nn.ReLU(inplace=True),\n",
    "            nn.MaxPool2d(kernel_size=2, stride=2),\n",
    "            nn.Conv2d(64, 128, kernel_size=3, padding=1),\n",
    "            nn.ReLU(inplace=True),\n",
    "            nn.MaxPool2d(kernel_size=2, stride=2),\n",
    "            nn.Conv2d(128, 256, kernel_size=3, padding=1),\n",
    "            nn.ReLU(inplace=True),\n",
    "            nn.MaxPool2d(kernel_size=2, stride=2)\n",
    "        )\n",
    "        self.avgpool = nn.AdaptiveAvgPool2d((7, 7))\n",
    "        self.classifier = nn.Sequential(\n",
    "            nn.Linear(256 * 7 * 7, 512),\n",
    "            nn.ReLU(inplace=True),\n",
    "            nn.Dropout(),\n",
    "            nn.Linear(512, num_classes)\n",
    "        )\n",
    "\n",
    "    def forward(self, x):\n",
    "        x = self.features(x)\n",
    "        x = self.avgpool(x)\n",
    "        x = torch.flatten(x, 1)\n",
    "        x = self.classifier(x)\n",
    "        return x\n"
   ]
  },
  {
   "cell_type": "code",
   "execution_count": 3,
   "id": "7ccdd3fa-1882-4229-8462-b1648a8d2993",
   "metadata": {},
   "outputs": [],
   "source": [
    "model = HandSignClassifier(num_classes=36)"
   ]
  },
  {
   "cell_type": "code",
   "execution_count": 4,
   "id": "39d4e49f-da68-4ada-95fd-eaef43f880ca",
   "metadata": {},
   "outputs": [
    {
     "data": {
      "text/plain": [
       "<All keys matched successfully>"
      ]
     },
     "execution_count": 4,
     "metadata": {},
     "output_type": "execute_result"
    }
   ],
   "source": [
    "model.load_state_dict(torch.load('../hand_sign_classifier4.pth'))"
   ]
  },
  {
   "cell_type": "code",
   "execution_count": 5,
   "id": "6526d41a-902d-4fe6-9a12-2fdc8d739bce",
   "metadata": {},
   "outputs": [
    {
     "data": {
      "text/plain": [
       "HandSignClassifier(\n",
       "  (features): Sequential(\n",
       "    (0): Conv2d(3, 64, kernel_size=(3, 3), stride=(1, 1), padding=(1, 1))\n",
       "    (1): ReLU(inplace=True)\n",
       "    (2): MaxPool2d(kernel_size=2, stride=2, padding=0, dilation=1, ceil_mode=False)\n",
       "    (3): Conv2d(64, 128, kernel_size=(3, 3), stride=(1, 1), padding=(1, 1))\n",
       "    (4): ReLU(inplace=True)\n",
       "    (5): MaxPool2d(kernel_size=2, stride=2, padding=0, dilation=1, ceil_mode=False)\n",
       "    (6): Conv2d(128, 256, kernel_size=(3, 3), stride=(1, 1), padding=(1, 1))\n",
       "    (7): ReLU(inplace=True)\n",
       "    (8): MaxPool2d(kernel_size=2, stride=2, padding=0, dilation=1, ceil_mode=False)\n",
       "  )\n",
       "  (avgpool): AdaptiveAvgPool2d(output_size=(7, 7))\n",
       "  (classifier): Sequential(\n",
       "    (0): Linear(in_features=12544, out_features=512, bias=True)\n",
       "    (1): ReLU(inplace=True)\n",
       "    (2): Dropout(p=0.5, inplace=False)\n",
       "    (3): Linear(in_features=512, out_features=36, bias=True)\n",
       "  )\n",
       ")"
      ]
     },
     "execution_count": 5,
     "metadata": {},
     "output_type": "execute_result"
    }
   ],
   "source": [
    "model.eval()"
   ]
  },
  {
   "cell_type": "code",
   "execution_count": 8,
   "id": "65180741-b9f5-4b1b-9b5c-fcfb84d57fba",
   "metadata": {},
   "outputs": [],
   "source": [
    "from torchvision import transforms\n",
    "transform = transforms.Compose([\n",
    "    transforms.Resize((128, 128)),\n",
    "    transforms.ToTensor(),\n",
    "])"
   ]
  },
  {
   "cell_type": "code",
   "execution_count": 24,
   "id": "d7010446-b931-4512-be24-06cc31c765b2",
   "metadata": {},
   "outputs": [],
   "source": [
    "from PIL import Image\n",
    "image_path = '../pre-images/pre-for-ja-ज/hand_0000.png' \n",
    "image = Image.open(image_path)\n",
    "\n",
    "# Apply the transformation\n",
    "transformed_image = transform(image)\n",
    "\n",
    "# If you need to add batch dimension (assumes you're working with a model that expects batches)\n",
    "transformed_image = transformed_image.unsqueeze(0)"
   ]
  },
  {
   "cell_type": "code",
   "execution_count": 25,
   "id": "bb5ead63-9f68-4e59-accf-7b85cb3d5fd9",
   "metadata": {},
   "outputs": [],
   "source": [
    "result = model(transformed_image)"
   ]
  },
  {
   "cell_type": "code",
   "execution_count": 26,
   "id": "6546cbcf-09df-4ff7-a9b1-53d5975ccaab",
   "metadata": {},
   "outputs": [
    {
     "name": "stdout",
     "output_type": "stream",
     "text": [
      "tensor([[ -6.4505,  -7.4426,  -6.7383,   3.4355,  -2.8931,   3.8527,  -4.3654,\n",
      "          -2.4565,  -4.7128, -12.5092,  -5.1665, -10.2302, -10.3447,  11.6107,\n",
      "          -1.5805,  -4.4574, -15.9028,   1.0374, -14.1829,  -7.7752,  -2.1233,\n",
      "          -8.2282,  -6.3645,  -9.9057,   1.3037,  -8.0347,  -9.0312,  -3.4568,\n",
      "         -10.2339,  -2.0346, -16.2580,  -7.5341, -19.8565,  -6.6283,  -3.7815,\n",
      "          -1.4296]], grad_fn=<AddmmBackward0>)\n"
     ]
    }
   ],
   "source": [
    "print(result)"
   ]
  },
  {
   "cell_type": "code",
   "execution_count": 27,
   "id": "2bab0399-3819-43b0-83f8-4e72ee2f6d56",
   "metadata": {},
   "outputs": [],
   "source": [
    "predicted_class = torch.argmax(result).item()"
   ]
  },
  {
   "cell_type": "code",
   "execution_count": 28,
   "id": "1cfa0e67-2a4a-4aac-b207-2c35b366821e",
   "metadata": {},
   "outputs": [],
   "source": [
    "class_mapping = {0: 'ब', 1: 'भ', 2: 'च',3: 'छ', 4: 'स', 5: 'द', 6: 'ड', 7: 'ध', 8:'ढ',9: 'ग', 10: 'घ', 11: 'ज्ञ', 12: 'ह', 13: 'ज', 14: 'झ', 15: 'क', 16: 'ख', 17: 'क्ष', 18: 'ल', 19: 'ष', 20: 'म', 21: 'न', 22: 'ण', 23: 'ङ', 24: 'प', 25: 'फ', 26: 'र', 27: 'श', 28: 'त', 29: 'ट', 30: 'थ', 31: 'ठ', 32: 'त्र', 33: 'व', 34: 'ञ', 35: 'य'}"
   ]
  },
  {
   "cell_type": "code",
   "execution_count": 29,
   "id": "d65e3831-47c7-402a-b704-a895238cea6a",
   "metadata": {},
   "outputs": [],
   "source": [
    "predicted_label = class_mapping[predicted_class]"
   ]
  },
  {
   "cell_type": "code",
   "execution_count": 30,
   "id": "46a87181-5de9-4aec-85c1-79e488c4bc32",
   "metadata": {},
   "outputs": [
    {
     "name": "stdout",
     "output_type": "stream",
     "text": [
      "Prediction: ज\n"
     ]
    }
   ],
   "source": [
    "print(f\"Prediction: {predicted_label}\")"
   ]
  },
  {
   "cell_type": "code",
   "execution_count": null,
   "id": "ecd2c7cc-c514-455e-aa7b-8f9b87185f2b",
   "metadata": {},
   "outputs": [],
   "source": []
  }
 ],
 "metadata": {
  "kernelspec": {
   "display_name": "Python 3 (ipykernel)",
   "language": "python",
   "name": "python3"
  },
  "language_info": {
   "codemirror_mode": {
    "name": "ipython",
    "version": 3
   },
   "file_extension": ".py",
   "mimetype": "text/x-python",
   "name": "python",
   "nbconvert_exporter": "python",
   "pygments_lexer": "ipython3",
   "version": "3.9.5"
  }
 },
 "nbformat": 4,
 "nbformat_minor": 5
}
