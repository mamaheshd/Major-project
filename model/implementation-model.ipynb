{
 "cells": [
  {
   "cell_type": "code",
   "execution_count": null,
   "id": "f44c259b-4f99-433e-b889-602f32b1eec8",
   "metadata": {},
   "outputs": [],
   "source": [
    "pip install torchvision"
   ]
  },
  {
   "cell_type": "code",
   "execution_count": null,
   "id": "44ff6cd1-b8ac-4760-9205-15d49dd85727",
   "metadata": {},
   "outputs": [],
   "source": [
    "import torch\n",
    "from matplotlib import pyplot as plt\n",
    "import numpy as np\n",
    "import cv2"
   ]
  },
  {
   "cell_type": "code",
   "execution_count": null,
   "id": "44ac0d76-4c29-4a56-b43f-805aa5dd2b06",
   "metadata": {},
   "outputs": [],
   "source": [
    "from pytorch_model import HandSignClassifier"
   ]
  },
  {
   "cell_type": "code",
   "execution_count": null,
   "id": "43010479-c624-4570-b191-ef7c30e7dbb3",
   "metadata": {},
   "outputs": [],
   "source": [
    "from pytorch_model import HandSignClassifier"
   ]
  },
  {
   "cell_type": "code",
   "execution_count": null,
   "id": "2ff34cd7-35e0-44db-a3de-01e8e37f1ab2",
   "metadata": {},
   "outputs": [],
   "source": [
    "device = torch.device(\"cuda\" if torch.cuda.is_available() else \"cpu\")"
   ]
  },
  {
   "cell_type": "code",
   "execution_count": null,
   "id": "61e35719-6346-4aac-8d4e-9b07ccf6f585",
   "metadata": {},
   "outputs": [],
   "source": [
    "class HandSignClassifier(nn.Module):\n",
    "    def __init__(self, num_classes):\n",
    "        super(HandSignClassifier, self).__init__()\n",
    "        self.features = nn.Sequential(\n",
    "            nn.Conv2d(3, 64, kernel_size=3, padding=1),\n",
    "            nn.ReLU(inplace=True),\n",
    "            nn.MaxPool2d(kernel_size=2, stride=2),\n",
    "            nn.Conv2d(64, 128, kernel_size=3, padding=1),\n",
    "            nn.ReLU(inplace=True),\n",
    "            nn.MaxPool2d(kernel_size=2, stride=2),\n",
    "            nn.Conv2d(128, 256, kernel_size=3, padding=1),\n",
    "            nn.ReLU(inplace=True),\n",
    "            nn.MaxPool2d(kernel_size=2, stride=2)\n",
    "        )\n",
    "        self.avgpool = nn.AdaptiveAvgPool2d((7, 7))\n",
    "        self.classifier = nn.Sequential(\n",
    "            nn.Linear(256 * 7 * 7, 512),\n",
    "            nn.ReLU(inplace=True),\n",
    "            nn.Dropout(),\n",
    "            nn.Linear(512, num_classes)\n",
    "        )\n",
    "\n",
    "    def forward(self, x):\n",
    "        x = self.features(x)\n",
    "        x = self.avgpool(x)\n",
    "        x = torch.flatten(x, 1)\n",
    "        x = self.classifier(x)\n",
    "        return x\n",
    "    "
   ]
  },
  {
   "cell_type": "code",
   "execution_count": null,
   "id": "3c2c9918-e263-4262-a745-1065e1ce33b0",
   "metadata": {},
   "outputs": [],
   "source": [
    "import torch.nn as nn"
   ]
  },
  {
   "cell_type": "code",
   "execution_count": null,
   "id": "b5d9168c-a533-489a-87a8-2ac2aef71885",
   "metadata": {},
   "outputs": [],
   "source": [
    "class HandSignClassifier(nn.Module):\n",
    "    def __init__(self, num_classes):\n",
    "        super(HandSignClassifier, self).__init__()\n",
    "        self.features = nn.Sequential(\n",
    "            nn.Conv2d(3, 64, kernel_size=3, padding=1),\n",
    "            nn.ReLU(inplace=True),\n",
    "            nn.MaxPool2d(kernel_size=2, stride=2),\n",
    "            nn.Conv2d(64, 128, kernel_size=3, padding=1),\n",
    "            nn.ReLU(inplace=True),\n",
    "            nn.MaxPool2d(kernel_size=2, stride=2),\n",
    "            nn.Conv2d(128, 256, kernel_size=3, padding=1),\n",
    "            nn.ReLU(inplace=True),\n",
    "            nn.MaxPool2d(kernel_size=2, stride=2)\n",
    "        )\n",
    "        self.avgpool = nn.AdaptiveAvgPool2d((7, 7))\n",
    "        self.classifier = nn.Sequential(\n",
    "            nn.Linear(256 * 7 * 7, 512),\n",
    "            nn.ReLU(inplace=True),\n",
    "            nn.Dropout(),\n",
    "            nn.Linear(512, num_classes)\n",
    "        )\n",
    "\n",
    "    def forward(self, x):\n",
    "        x = self.features(x)\n",
    "        x = self.avgpool(x)\n",
    "        x = torch.flatten(x, 1)\n",
    "        x = self.classifier(x)\n",
    "        return x\n",
    "    "
   ]
  },
  {
   "cell_type": "code",
   "execution_count": null,
   "id": "596db15b-1e67-495f-a979-31ff9c40c57e",
   "metadata": {},
   "outputs": [],
   "source": [
    "model = HandSignClassifier(num_classes=36)"
   ]
  },
  {
   "cell_type": "code",
   "execution_count": null,
   "id": "82f045a6-d773-4209-97ec-287e8a96fc06",
   "metadata": {},
   "outputs": [],
   "source": [
    "model.load_state_dict(torch.load('../hand_sign_classifier4.pth'))"
   ]
  },
  {
   "cell_type": "code",
   "execution_count": null,
   "id": "ba6bfe6b-e7a0-430b-8bac-62ffafd04dac",
   "metadata": {},
   "outputs": [],
   "source": [
    "model.eval()"
   ]
  },
  {
   "cell_type": "code",
   "execution_count": null,
   "id": "8df3a878-af17-4299-83eb-b7fe7e0afa87",
   "metadata": {},
   "outputs": [],
   "source": [
    "from torchvision import transforms"
   ]
  },
  {
   "cell_type": "code",
   "execution_count": null,
   "id": "676e1b07-4c6a-4686-829a-5b1a2d711e1f",
   "metadata": {},
   "outputs": [],
   "source": [
    "transform = transforms.Compose([\n",
    "    transforms.Resize((128, 128)),\n",
    "    transforms.ToTensor(),\n",
    "])"
   ]
  },
  {
   "cell_type": "code",
   "execution_count": null,
   "id": "92da9c2c-5057-4b31-893c-93c97b19ca25",
   "metadata": {},
   "outputs": [],
   "source": [
    "# Function to check if an image is blurry\n",
    "def is_blurry(image):\n",
    "    laplacian_var = cv2.Laplacian(image, cv2.CV_64F).var()\n",
    "    return laplacian_var < 0.4"
   ]
  },
  {
   "cell_type": "code",
   "execution_count": null,
   "id": "dcbcedc1-4f88-46fd-81a7-1f77e61052dc",
   "metadata": {},
   "outputs": [],
   "source": [
    "from PIL import Image"
   ]
  },
  {
   "cell_type": "code",
   "execution_count": null,
   "id": "f8382b3c-fed0-47f4-b226-326701ad3ba4",
   "metadata": {},
   "outputs": [],
   "source": []
  }
 ],
 "metadata": {
  "kernelspec": {
   "display_name": "Python 3 (ipykernel)",
   "language": "python",
   "name": "python3"
  },
  "language_info": {
   "codemirror_mode": {
    "name": "ipython",
    "version": 3
   },
   "file_extension": ".py",
   "mimetype": "text/x-python",
   "name": "python",
   "nbconvert_exporter": "python",
   "pygments_lexer": "ipython3",
   "version": "3.9.5"
  }
 },
 "nbformat": 4,
 "nbformat_minor": 5
}
