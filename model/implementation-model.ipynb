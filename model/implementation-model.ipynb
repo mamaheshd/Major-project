{
 "cells": [
  {
   "cell_type": "code",
   "execution_count": 1,
   "id": "2c8f5465-6c8d-43ee-bf0c-7332e961ac3b",
   "metadata": {},
   "outputs": [],
   "source": [
    "import torch\n",
    "from matplotlib import pyplot as plt\n",
    "import numpy as np\n",
    "import cv2\n",
    "import torch.nn as nn"
   ]
  },
  {
   "cell_type": "code",
   "execution_count": 2,
   "id": "2c1a4686-ea0d-48cd-94e5-7ffa78701e5e",
   "metadata": {},
   "outputs": [],
   "source": [
    "from PIL import Image\n",
    "from torchvision import transforms"
   ]
  },
  {
   "cell_type": "code",
   "execution_count": 1,
   "id": "38338c72-e5ee-4512-8ede-85e0b6687584",
   "metadata": {},
   "outputs": [],
   "source": [
    "import torch\n",
    "from matplotlib import pyplot as plt\n",
    "import numpy as np\n",
    "import cv2\n",
    "import torch.nn as nn"
   ]
  },
  {
   "cell_type": "code",
   "execution_count": 3,
   "id": "03d930a2-2448-427a-92d6-6ef6427b965c",
   "metadata": {},
   "outputs": [],
   "source": [
    "class HandSignClassifier(nn.Module):\n",
    "    def __init__(self, num_classes):\n",
    "        super(HandSignClassifier, self).__init__()\n",
    "        self.features = nn.Sequential(\n",
    "            nn.Conv2d(3, 64, kernel_size=3, padding=1),\n",
    "            nn.ReLU(inplace=True),\n",
    "            nn.MaxPool2d(kernel_size=2, stride=2),\n",
    "            nn.Conv2d(64, 128, kernel_size=3, padding=1),\n",
    "            nn.ReLU(inplace=True),\n",
    "            nn.MaxPool2d(kernel_size=2, stride=2),\n",
    "            nn.Conv2d(128, 256, kernel_size=3, padding=1),\n",
    "            nn.ReLU(inplace=True),\n",
    "            nn.MaxPool2d(kernel_size=2, stride=2)\n",
    "        )\n",
    "        self.avgpool = nn.AdaptiveAvgPool2d((7, 7))\n",
    "        self.classifier = nn.Sequential(\n",
    "            nn.Linear(256 * 7 * 7, 512),\n",
    "            nn.ReLU(inplace=True),\n",
    "            nn.Dropout(),\n",
    "            nn.Linear(512, num_classes)\n",
    "        )\n",
    "\n",
    "    def forward(self, x):\n",
    "        x = self.features(x)\n",
    "        x = self.avgpool(x)\n",
    "        x = torch.flatten(x, 1)\n",
    "        x = self.classifier(x)\n",
    "        return x\n",
    "    "
   ]
  },
  {
   "cell_type": "code",
   "execution_count": 4,
   "id": "e6dd9f5f-4ad8-44a6-961d-3b8e5be10cb4",
   "metadata": {},
   "outputs": [],
   "source": [
    "model = HandSignClassifier(num_classes=36)"
   ]
  },
  {
   "cell_type": "code",
   "execution_count": 5,
   "id": "6ccd5347-f70a-404c-8707-1b429917b8e5",
   "metadata": {},
   "outputs": [
    {
     "data": {
      "text/plain": [
       "<All keys matched successfully>"
      ]
     },
     "execution_count": 5,
     "metadata": {},
     "output_type": "execute_result"
    }
   ],
   "source": [
    "model.load_state_dict(torch.load('../hand_sign_classifier4.pth'))"
   ]
  },
  {
   "cell_type": "code",
   "execution_count": 6,
   "id": "8ae62a7c-04af-4836-aa1f-200498232a48",
   "metadata": {},
   "outputs": [
    {
     "data": {
      "text/plain": [
       "HandSignClassifier(\n",
       "  (features): Sequential(\n",
       "    (0): Conv2d(3, 64, kernel_size=(3, 3), stride=(1, 1), padding=(1, 1))\n",
       "    (1): ReLU(inplace=True)\n",
       "    (2): MaxPool2d(kernel_size=2, stride=2, padding=0, dilation=1, ceil_mode=False)\n",
       "    (3): Conv2d(64, 128, kernel_size=(3, 3), stride=(1, 1), padding=(1, 1))\n",
       "    (4): ReLU(inplace=True)\n",
       "    (5): MaxPool2d(kernel_size=2, stride=2, padding=0, dilation=1, ceil_mode=False)\n",
       "    (6): Conv2d(128, 256, kernel_size=(3, 3), stride=(1, 1), padding=(1, 1))\n",
       "    (7): ReLU(inplace=True)\n",
       "    (8): MaxPool2d(kernel_size=2, stride=2, padding=0, dilation=1, ceil_mode=False)\n",
       "  )\n",
       "  (avgpool): AdaptiveAvgPool2d(output_size=(7, 7))\n",
       "  (classifier): Sequential(\n",
       "    (0): Linear(in_features=12544, out_features=512, bias=True)\n",
       "    (1): ReLU(inplace=True)\n",
       "    (2): Dropout(p=0.5, inplace=False)\n",
       "    (3): Linear(in_features=512, out_features=36, bias=True)\n",
       "  )\n",
       ")"
      ]
     },
     "execution_count": 6,
     "metadata": {},
     "output_type": "execute_result"
    }
   ],
   "source": [
    "model.eval()"
   ]
  },
  {
   "cell_type": "code",
   "execution_count": 6,
   "id": "7dea6ba6-17b3-48d4-a95a-198e56503855",
   "metadata": {},
   "outputs": [],
   "source": [
    "import mediapipe as mp"
   ]
  },
  {
   "cell_type": "code",
   "execution_count": 7,
   "id": "079b0900-e872-4a67-9ce8-3abda4b9d0e0",
   "metadata": {},
   "outputs": [],
   "source": [
    "def get_hand_bounding_box(frame, hand_landmarks, padding=20):\n",
    "    x_min, x_max, y_min, y_max = frame.shape[1], 0, frame.shape[0], 0\n",
    "    for landmark in hand_landmarks.landmark:\n",
    "        x, y = int(landmark.x * frame.shape[1]), int(landmark.y * frame.shape[0])\n",
    "        x_min = min(x_min, x)\n",
    "        x_max = max(x_max, x)\n",
    "        y_min = min(y_min, y)\n",
    "        y_max = max(y_max, y)\n",
    "    \n",
    "    # Add padding to the bounding box coordinates\n",
    "    x_min = max(0, x_min - padding)\n",
    "    x_max = min(frame.shape[1], x_max + padding)\n",
    "    y_min = max(0, y_min - padding)\n",
    "    y_max = min(frame.shape[0], y_max + padding)\n",
    "    \n",
    "    return x_min, x_max, y_min, y_max"
   ]
  },
  {
   "cell_type": "code",
   "execution_count": 8,
   "id": "56950ad4-d238-4339-ade3-8522e27d2c79",
   "metadata": {},
   "outputs": [],
   "source": [
    "# Initialize the hand tracking module\n",
    "mp_hands = mp.solutions.hands"
   ]
  },
  {
   "cell_type": "code",
   "execution_count": null,
   "id": "05ed5743-c663-42f4-8eed-4cf7b8ca1b75",
   "metadata": {},
   "outputs": [],
   "source": []
  }
 ],
 "metadata": {
  "kernelspec": {
   "display_name": "Python 3 (ipykernel)",
   "language": "python",
   "name": "python3"
  },
  "language_info": {
   "codemirror_mode": {
    "name": "ipython",
    "version": 3
   },
   "file_extension": ".py",
   "mimetype": "text/x-python",
   "name": "python",
   "nbconvert_exporter": "python",
   "pygments_lexer": "ipython3",
   "version": "3.9.5"
  },
  "vscode": {
   "interpreter": {
    "hash": "19be7575dabf53a26d362ec99719eda16ce9c6fe54e3d21b503e0ba97328af0d"
   }
  }
 },
 "nbformat": 4,
 "nbformat_minor": 5
}
